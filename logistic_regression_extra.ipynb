{
 "cells": [
  {
   "cell_type": "markdown",
   "metadata": {},
   "source": [
    "# Logistic Regression Coursework\n",
    "This notebook is supposed to help with your understanding of the code by providing visual insights. It is not graded and solely for that purpose."
   ]
  },
  {
   "cell_type": "code",
   "execution_count": 1,
   "metadata": {},
   "outputs": [],
   "source": [
    "# Let's import your code and matplotlib\n",
    "from logistic_regression_assignment import *\n",
    "import matplotlib.pyplot as plt\n",
    "\n",
    "%matplotlib inline\n",
    "\n",
    "# Let's load some example data:\n",
    "x, y, x_test = load_data()\n",
    "D = x.shape[1]"
   ]
  },
  {
   "cell_type": "markdown",
   "metadata": {},
   "source": [
    "## Random Prediction\n",
    "This tests your prediction function."
   ]
  },
  {
   "cell_type": "code",
   "execution_count": 2,
   "metadata": {},
   "outputs": [
    {
     "data": {
      "text/plain": [
       "543"
      ]
     },
     "execution_count": 2,
     "metadata": {},
     "output_type": "execute_result"
    }
   ],
   "source": [
    "np.matmul(np.array([1,2,23,3]),np.array([1,2,23,3]))"
   ]
  },
  {
   "cell_type": "code",
   "execution_count": 3,
   "metadata": {},
   "outputs": [
    {
     "data": {
      "image/png": "[encoded data removed]",
      "text/plain": [
       "<Figure size 432x288 with 1 Axes>"
      ]
     },
     "metadata": {
      "needs_background": "light"
     },
     "output_type": "display_data"
    }
   ],
   "source": [
    "rn.seed(42)\n",
    "theta = rn.normal(loc=10, size=(D, 1))\n",
    "y_hat = predict_binary(x, theta).squeeze()\n",
    "plt.scatter(x[y_hat < 0.5, 1], y[y_hat < 0.5])\n",
    "plt.scatter(x[y_hat > 0.5, 1], y[y_hat > 0.5])\n",
    "plt.legend(['Classified as 0', 'Classified as 1'])\n",
    "plt.plot(x_test[:,1], predict(x_test, theta))\n",
    "plt.xlabel('x')\n",
    "plt.ylabel('y')\n",
    "plt.show()"
   ]
  },
  {
   "cell_type": "markdown",
   "metadata": {},
   "source": [
    "## Maximum Likelihood Estimate\n",
    "This tests your MLE and plots the predictions on the example data."
   ]
  },
  {
   "cell_type": "code",
   "execution_count": 4,
   "metadata": {},
   "outputs": [
    {
     "data": {
      "image/png": "[encoded data removed]",
      "text/plain": [
       "<Figure size 432x288 with 1 Axes>"
      ]
     },
     "metadata": {
      "needs_background": "light"
     },
     "output_type": "display_data"
    }
   ],
   "source": [
    "theta_ml = max_lik_estimate(x, y)\n",
    "y_hat = predict_binary(x, theta_ml).squeeze()\n",
    "plt.scatter(x[y_hat < 0.5, 1], y[y_hat < 0.5])\n",
    "plt.scatter(x[y_hat > 0.5, 1], y[y_hat > 0.5])\n",
    "plt.legend(['Classified as 0', 'Classified as 1'])\n",
    "plt.plot(x_test[:,1], predict(x_test, theta_ml))\n",
    "plt.xlabel('x')\n",
    "plt.ylabel('y')\n",
    "plt.show()"
   ]
  },
  {
   "cell_type": "markdown",
   "metadata": {},
   "source": [
    "## Maximum A Posteriori\n",
    "This tests your MAP solution and plots the predictions on the example data."
   ]
  },
  {
   "cell_type": "code",
   "execution_count": 5,
   "metadata": {},
   "outputs": [
    {
     "name": "stdout",
     "output_type": "stream",
     "text": [
      "[[0.]\n",
      " [0.]]\n",
      "m [[0.]\n",
      " [0.]] S [[5. 0.]\n",
      " [0. 5.]]\n",
      "m [[0.]\n",
      " [0.]] S [[5. 0.]\n",
      " [0. 5.]]\n",
      "m [[0.]\n",
      " [0.]] S [[5. 0.]\n",
      " [0. 5.]]\n",
      "m [[0.]\n",
      " [0.]] S [[5. 0.]\n",
      " [0. 5.]]\n",
      "m [[0.]\n",
      " [0.]] S [[5. 0.]\n",
      " [0. 5.]]\n",
      "m [[0.]\n",
      " [0.]] S [[5. 0.]\n",
      " [0. 5.]]\n",
      "m [[0.]\n",
      " [0.]] S [[5. 0.]\n",
      " [0. 5.]]\n",
      "m [[0.]\n",
      " [0.]] S [[5. 0.]\n",
      " [0. 5.]]\n",
      "m [[0.]\n",
      " [0.]] S [[5. 0.]\n",
      " [0. 5.]]\n",
      "m [[0.]\n",
      " [0.]] S [[5. 0.]\n",
      " [0. 5.]]\n",
      "m [[0.]\n",
      " [0.]] S [[5. 0.]\n",
      " [0. 5.]]\n",
      "m [[0.]\n",
      " [0.]] S [[5. 0.]\n",
      " [0. 5.]]\n",
      "m [[0.]\n",
      " [0.]] S [[5. 0.]\n",
      " [0. 5.]]\n",
      "m [[0.]\n",
      " [0.]] S [[5. 0.]\n",
      " [0. 5.]]\n",
      "m [[0.]\n",
      " [0.]] S [[5. 0.]\n",
      " [0. 5.]]\n",
      "m [[0.]\n",
      " [0.]] S [[5. 0.]\n",
      " [0. 5.]]\n",
      "m [[0.]\n",
      " [0.]] S [[5. 0.]\n",
      " [0. 5.]]\n",
      "m [[0.]\n",
      " [0.]] S [[5. 0.]\n",
      " [0. 5.]]\n",
      "m [[0.]\n",
      " [0.]] S [[5. 0.]\n",
      " [0. 5.]]\n",
      "m [[0.]\n",
      " [0.]] S [[5. 0.]\n",
      " [0. 5.]]\n",
      "m [[0.]\n",
      " [0.]] S [[5. 0.]\n",
      " [0. 5.]]\n",
      "m [[0.]\n",
      " [0.]] S [[5. 0.]\n",
      " [0. 5.]]\n",
      "m [[0.]\n",
      " [0.]] S [[5. 0.]\n",
      " [0. 5.]]\n",
      "m [[0.]\n",
      " [0.]] S [[5. 0.]\n",
      " [0. 5.]]\n",
      "m [[0.]\n",
      " [0.]] S [[5. 0.]\n",
      " [0. 5.]]\n",
      "m [[0.]\n",
      " [0.]] S [[5. 0.]\n",
      " [0. 5.]]\n",
      "m [[0.]\n",
      " [0.]] S [[5. 0.]\n",
      " [0. 5.]]\n",
      "m [[0.]\n",
      " [0.]] S [[5. 0.]\n",
      " [0. 5.]]\n",
      "m [[0.]\n",
      " [0.]] S [[5. 0.]\n",
      " [0. 5.]]\n",
      "m [[0.]\n",
      " [0.]] S [[5. 0.]\n",
      " [0. 5.]]\n",
      "m [[0.]\n",
      " [0.]] S [[5. 0.]\n",
      " [0. 5.]]\n",
      "m [[0.]\n",
      " [0.]] S [[5. 0.]\n",
      " [0. 5.]]\n",
      "m [[0.]\n",
      " [0.]] S [[5. 0.]\n",
      " [0. 5.]]\n",
      "m [[0.]\n",
      " [0.]] S [[5. 0.]\n",
      " [0. 5.]]\n",
      "m [[0.]\n",
      " [0.]] S [[5. 0.]\n",
      " [0. 5.]]\n",
      "m [[0.]\n",
      " [0.]] S [[5. 0.]\n",
      " [0. 5.]]\n",
      "m [[0.]\n",
      " [0.]] S [[5. 0.]\n",
      " [0. 5.]]\n",
      "m [[0.]\n",
      " [0.]] S [[5. 0.]\n",
      " [0. 5.]]\n",
      "m [[0.]\n",
      " [0.]] S [[5. 0.]\n",
      " [0. 5.]]\n",
      "m [[0.]\n",
      " [0.]] S [[5. 0.]\n",
      " [0. 5.]]\n",
      "m [[0.]\n",
      " [0.]] S [[5. 0.]\n",
      " [0. 5.]]\n",
      "m [[0.]\n",
      " [0.]] S [[5. 0.]\n",
      " [0. 5.]]\n",
      "m [[0.]\n",
      " [0.]] S [[5. 0.]\n",
      " [0. 5.]]\n",
      "m [[0.]\n",
      " [0.]] S [[5. 0.]\n",
      " [0. 5.]]\n",
      "m [[0.]\n",
      " [0.]] S [[5. 0.]\n",
      " [0. 5.]]\n",
      "m [[0.]\n",
      " [0.]] S [[5. 0.]\n",
      " [0. 5.]]\n",
      "m [[0.]\n",
      " [0.]] S [[5. 0.]\n",
      " [0. 5.]]\n",
      "m [[0.]\n",
      " [0.]] S [[5. 0.]\n",
      " [0. 5.]]\n"
     ]
    },
    {
     "data": {
      "image/png": "[encoded data removed]",
      "text/plain": [
       "<Figure size 432x288 with 1 Axes>"
      ]
     },
     "metadata": {
      "needs_background": "light"
     },
     "output_type": "display_data"
    }
   ],
   "source": [
    "m = np.zeros((D, 1))\n",
    "S = 5 * np.eye(D)\n",
    "\n",
    "theta_map = map_estimate(x, y, m, S)\n",
    "y_hat = predict_binary(x, theta_map)\n",
    "plt.scatter(x[:, 1], y, c=y_hat, cmap='jet')\n",
    "plt.plot(x_test[:, 1], predict(x_test, theta_map))\n",
    "plt.xlabel('x')\n",
    "plt.ylabel('y')\n",
    "plt.show()"
   ]
  },
  {
   "cell_type": "markdown",
   "metadata": {},
   "source": [
    "## Laplace Approximation\n",
    "This tests your Laplace approximation and compares it to the true distribution."
   ]
  },
  {
   "cell_type": "code",
   "execution_count": 5,
   "metadata": {},
   "outputs": [
    {
     "data": {
      "image/png": "[encoded data removed]",
      "text/plain": [
       "<Figure size 432x288 with 1 Axes>"
      ]
     },
     "metadata": {
      "needs_background": "light"
     },
     "output_type": "display_data"
    }
   ],
   "source": [
    "z = np.linspace(0,10)\n",
    "p = stats.chi2.pdf(z, 4)\n",
    "\n",
    "q = laplace_q(z)\n",
    "plt.plot(z, p)\n",
    "plt.plot(z, q)\n",
    "plt.legend(['True p(z)', 'Laplace q(z)'])\n",
    "plt.show()"
   ]
  },
  {
   "cell_type": "markdown",
   "metadata": {},
   "source": [
    "## Laplace Approximation of Logistic Regression\n",
    "This tests your Laplace approximation of the logistic regression an plots multiple sample regressions."
   ]
  },
  {
   "cell_type": "code",
   "execution_count": 6,
   "metadata": {},
   "outputs": [
    {
     "data": {
      "image/png": "[encoded data removed]",
      "text/plain": [
       "<Figure size 432x288 with 1 Axes>"
      ]
     },
     "metadata": {
      "needs_background": "light"
     },
     "output_type": "display_data"
    }
   ],
   "source": [
    "m = np.zeros((D, 1))\n",
    "S = 5*np.eye(D)\n",
    "nb_samples = 5\n",
    "\n",
    "theta_map, S_post = get_posterior(x, y, m, S)\n",
    "plt.scatter(x[:,1], y)\n",
    "for i in range(nb_samples):\n",
    "    th = np.random.multivariate_normal(theta_map.squeeze(), S_post)\n",
    "    plt.plot(x_test[:,1], predict(x_test, th))\n",
    "plt.show()"
   ]
  },
  {
   "cell_type": "markdown",
   "metadata": {},
   "source": [
    "## Metropolis Sampling\n",
    "This compares your Metropolis sampling to the Laplace posterior."
   ]
  },
  {
   "cell_type": "code",
   "execution_count": 7,
   "metadata": {},
   "outputs": [
    {
     "ename": "LinAlgError",
     "evalue": "singular matrix",
     "output_type": "error",
     "traceback": [
      "\u001b[0;31m---------------------------------------------------------------------------\u001b[0m",
      "\u001b[0;31mLinAlgError\u001b[0m                               Traceback (most recent call last)",
      "\u001b[0;32m<ipython-input-7-3f032ac754e9>\u001b[0m in \u001b[0;36m<module>\u001b[0;34m()\u001b[0m\n\u001b[1;32m      4\u001b[0m \u001b[0m_\u001b[0m\u001b[0;34m,\u001b[0m\u001b[0m_\u001b[0m\u001b[0;34m,\u001b[0m\u001b[0mh1\u001b[0m \u001b[0;34m=\u001b[0m \u001b[0mplt\u001b[0m\u001b[0;34m.\u001b[0m\u001b[0mhist\u001b[0m\u001b[0;34m(\u001b[0m\u001b[0msamples\u001b[0m\u001b[0;34m[\u001b[0m\u001b[0;34m:\u001b[0m\u001b[0;34m,\u001b[0m\u001b[0;36m1\u001b[0m\u001b[0;34m]\u001b[0m\u001b[0;34m,\u001b[0m \u001b[0mbins\u001b[0m\u001b[0;34m=\u001b[0m\u001b[0;36m50\u001b[0m\u001b[0;34m,\u001b[0m \u001b[0mdensity\u001b[0m\u001b[0;34m=\u001b[0m\u001b[0;32mTrue\u001b[0m\u001b[0;34m)\u001b[0m\u001b[0;34m\u001b[0m\u001b[0;34m\u001b[0m\u001b[0m\n\u001b[1;32m      5\u001b[0m h2, = plt.plot(np.linspace(0,10),\n\u001b[0;32m----> 6\u001b[0;31m          stats.multivariate_normal.pdf(np.linspace(0,10), theta_map[1], S_post[1,1]), 'r')\n\u001b[0m\u001b[1;32m      7\u001b[0m \u001b[0mplt\u001b[0m\u001b[0;34m.\u001b[0m\u001b[0mlegend\u001b[0m\u001b[0;34m(\u001b[0m\u001b[0;34m[\u001b[0m\u001b[0mh1\u001b[0m\u001b[0;34m[\u001b[0m\u001b[0;36m0\u001b[0m\u001b[0;34m]\u001b[0m\u001b[0;34m,\u001b[0m \u001b[0mh2\u001b[0m\u001b[0;34m]\u001b[0m\u001b[0;34m,\u001b[0m \u001b[0;34m[\u001b[0m\u001b[0;34m'Metropolis samples'\u001b[0m\u001b[0;34m,\u001b[0m \u001b[0;34m'Laplace posterior'\u001b[0m\u001b[0;34m]\u001b[0m\u001b[0;34m)\u001b[0m\u001b[0;34m\u001b[0m\u001b[0;34m\u001b[0m\u001b[0m\n\u001b[1;32m      8\u001b[0m \u001b[0mplt\u001b[0m\u001b[0;34m.\u001b[0m\u001b[0mxlabel\u001b[0m\u001b[0;34m(\u001b[0m\u001b[0;34m'theta'\u001b[0m\u001b[0;34m)\u001b[0m\u001b[0;34m\u001b[0m\u001b[0;34m\u001b[0m\u001b[0m\n",
      "\u001b[0;32m~/anaconda3/lib/python3.6/site-packages/scipy/stats/_multivariate.py\u001b[0m in \u001b[0;36mpdf\u001b[0;34m(self, x, mean, cov, allow_singular)\u001b[0m\n\u001b[1;32m    511\u001b[0m         \u001b[0mdim\u001b[0m\u001b[0;34m,\u001b[0m \u001b[0mmean\u001b[0m\u001b[0;34m,\u001b[0m \u001b[0mcov\u001b[0m \u001b[0;34m=\u001b[0m \u001b[0mself\u001b[0m\u001b[0;34m.\u001b[0m\u001b[0m_process_parameters\u001b[0m\u001b[0;34m(\u001b[0m\u001b[0;32mNone\u001b[0m\u001b[0;34m,\u001b[0m \u001b[0mmean\u001b[0m\u001b[0;34m,\u001b[0m \u001b[0mcov\u001b[0m\u001b[0;34m)\u001b[0m\u001b[0;34m\u001b[0m\u001b[0;34m\u001b[0m\u001b[0m\n\u001b[1;32m    512\u001b[0m         \u001b[0mx\u001b[0m \u001b[0;34m=\u001b[0m \u001b[0mself\u001b[0m\u001b[0;34m.\u001b[0m\u001b[0m_process_quantiles\u001b[0m\u001b[0;34m(\u001b[0m\u001b[0mx\u001b[0m\u001b[0;34m,\u001b[0m \u001b[0mdim\u001b[0m\u001b[0;34m)\u001b[0m\u001b[0;34m\u001b[0m\u001b[0;34m\u001b[0m\u001b[0m\n\u001b[0;32m--> 513\u001b[0;31m         \u001b[0mpsd\u001b[0m \u001b[0;34m=\u001b[0m \u001b[0m_PSD\u001b[0m\u001b[0;34m(\u001b[0m\u001b[0mcov\u001b[0m\u001b[0;34m,\u001b[0m \u001b[0mallow_singular\u001b[0m\u001b[0;34m=\u001b[0m\u001b[0mallow_singular\u001b[0m\u001b[0;34m)\u001b[0m\u001b[0;34m\u001b[0m\u001b[0;34m\u001b[0m\u001b[0m\n\u001b[0m\u001b[1;32m    514\u001b[0m         \u001b[0mout\u001b[0m \u001b[0;34m=\u001b[0m \u001b[0mnp\u001b[0m\u001b[0;34m.\u001b[0m\u001b[0mexp\u001b[0m\u001b[0;34m(\u001b[0m\u001b[0mself\u001b[0m\u001b[0;34m.\u001b[0m\u001b[0m_logpdf\u001b[0m\u001b[0;34m(\u001b[0m\u001b[0mx\u001b[0m\u001b[0;34m,\u001b[0m \u001b[0mmean\u001b[0m\u001b[0;34m,\u001b[0m \u001b[0mpsd\u001b[0m\u001b[0;34m.\u001b[0m\u001b[0mU\u001b[0m\u001b[0;34m,\u001b[0m \u001b[0mpsd\u001b[0m\u001b[0;34m.\u001b[0m\u001b[0mlog_pdet\u001b[0m\u001b[0;34m,\u001b[0m \u001b[0mpsd\u001b[0m\u001b[0;34m.\u001b[0m\u001b[0mrank\u001b[0m\u001b[0;34m)\u001b[0m\u001b[0;34m)\u001b[0m\u001b[0;34m\u001b[0m\u001b[0;34m\u001b[0m\u001b[0m\n\u001b[1;32m    515\u001b[0m         \u001b[0;32mreturn\u001b[0m \u001b[0m_squeeze_output\u001b[0m\u001b[0;34m(\u001b[0m\u001b[0mout\u001b[0m\u001b[0;34m)\u001b[0m\u001b[0;34m\u001b[0m\u001b[0;34m\u001b[0m\u001b[0m\n",
      "\u001b[0;32m~/anaconda3/lib/python3.6/site-packages/scipy/stats/_multivariate.py\u001b[0m in \u001b[0;36m__init__\u001b[0;34m(self, M, cond, rcond, lower, check_finite, allow_singular)\u001b[0m\n\u001b[1;32m    157\u001b[0m         \u001b[0md\u001b[0m \u001b[0;34m=\u001b[0m \u001b[0ms\u001b[0m\u001b[0;34m[\u001b[0m\u001b[0ms\u001b[0m \u001b[0;34m>\u001b[0m \u001b[0meps\u001b[0m\u001b[0;34m]\u001b[0m\u001b[0;34m\u001b[0m\u001b[0;34m\u001b[0m\u001b[0m\n\u001b[1;32m    158\u001b[0m         \u001b[0;32mif\u001b[0m \u001b[0mlen\u001b[0m\u001b[0;34m(\u001b[0m\u001b[0md\u001b[0m\u001b[0;34m)\u001b[0m \u001b[0;34m<\u001b[0m \u001b[0mlen\u001b[0m\u001b[0;34m(\u001b[0m\u001b[0ms\u001b[0m\u001b[0;34m)\u001b[0m \u001b[0;32mand\u001b[0m \u001b[0;32mnot\u001b[0m \u001b[0mallow_singular\u001b[0m\u001b[0;34m:\u001b[0m\u001b[0;34m\u001b[0m\u001b[0;34m\u001b[0m\u001b[0m\n\u001b[0;32m--> 159\u001b[0;31m             \u001b[0;32mraise\u001b[0m \u001b[0mnp\u001b[0m\u001b[0;34m.\u001b[0m\u001b[0mlinalg\u001b[0m\u001b[0;34m.\u001b[0m\u001b[0mLinAlgError\u001b[0m\u001b[0;34m(\u001b[0m\u001b[0;34m'singular matrix'\u001b[0m\u001b[0;34m)\u001b[0m\u001b[0;34m\u001b[0m\u001b[0;34m\u001b[0m\u001b[0m\n\u001b[0m\u001b[1;32m    160\u001b[0m         \u001b[0ms_pinv\u001b[0m \u001b[0;34m=\u001b[0m \u001b[0m_pinv_1d\u001b[0m\u001b[0;34m(\u001b[0m\u001b[0ms\u001b[0m\u001b[0;34m,\u001b[0m \u001b[0meps\u001b[0m\u001b[0;34m)\u001b[0m\u001b[0;34m\u001b[0m\u001b[0;34m\u001b[0m\u001b[0m\n\u001b[1;32m    161\u001b[0m         \u001b[0mU\u001b[0m \u001b[0;34m=\u001b[0m \u001b[0mnp\u001b[0m\u001b[0;34m.\u001b[0m\u001b[0mmultiply\u001b[0m\u001b[0;34m(\u001b[0m\u001b[0mu\u001b[0m\u001b[0;34m,\u001b[0m \u001b[0mnp\u001b[0m\u001b[0;34m.\u001b[0m\u001b[0msqrt\u001b[0m\u001b[0;34m(\u001b[0m\u001b[0ms_pinv\u001b[0m\u001b[0;34m)\u001b[0m\u001b[0;34m)\u001b[0m\u001b[0;34m\u001b[0m\u001b[0;34m\u001b[0m\u001b[0m\n",
      "\u001b[0;31mLinAlgError\u001b[0m: singular matrix"
     ]
    },
    {
     "data": {
      "image/png": "[encoded data removed]",
      "text/plain": [
       "<Figure size 432x288 with 1 Axes>"
      ]
     },
     "metadata": {
      "needs_background": "light"
     },
     "output_type": "display_data"
    }
   ],
   "source": [
    "nb_iter = 10000\n",
    "samples = metropolis_hastings_sample(x, y, m, S, nb_iter)\n",
    "\n",
    "_,_,h1 = plt.hist(samples[:,1], bins=50, density=True)\n",
    "h2, = plt.plot(np.linspace(0,10),\n",
    "         stats.multivariate_normal.pdf(np.linspace(0,10), theta_map[1], S_post[1,1]), 'r')\n",
    "plt.legend([h1[0], h2], ['Metropolis samples', 'Laplace posterior'])\n",
    "plt.xlabel('theta')\n",
    "plt.show()"
   ]
  },
  {
   "cell_type": "code",
   "execution_count": null,
   "metadata": {},
   "outputs": [],
   "source": []
  }
 ],
 "metadata": {
  "kernelspec": {
   "display_name": "Python [conda env:ic_std]",
   "language": "python",
   "name": "conda-env-ic_std-py"
  },
  "language_info": {
   "codemirror_mode": {
    "name": "ipython",
    "version": 3
   },
   "file_extension": ".py",
   "mimetype": "text/x-python",
   "name": "python",
   "nbconvert_exporter": "python",
   "pygments_lexer": "ipython3",
   "version": "3.6.7"
  }
 },
 "nbformat": 4,
 "nbformat_minor": 1
}
