{
 "cells": [
  {
   "cell_type": "markdown",
   "metadata": {},
   "source": [
    "# Variational Inference Coursework\n",
    "This notebook is supposed to help with your understanding of the code by providing visual insights. It is not graded and solely for that purpose."
   ]
  },
  {
   "cell_type": "code",
   "execution_count": 15,
   "metadata": {},
   "outputs": [
    {
     "name": "stdout",
     "output_type": "stream",
     "text": [
      "The autoreload extension is already loaded. To reload it, use:\n",
      "  %reload_ext autoreload\n"
     ]
    }
   ],
   "source": [
    "# Let's import your code and matplotlib\n",
    "from vi_assignment import *\n",
    "import matplotlib.pyplot as plt\n",
    "from matplotlib.patches import Ellipse\n",
    "\n",
    "%matplotlib inline\n",
    "%load_ext autoreload\n",
    "%autoreload\n",
    "# Generate the 2D data for the coursework\n",
    "## Note: You can play around with different data by passing in different means or None for random clusters.\n",
    "\n",
    "mu = np.float64([\n",
    "        [-3., -3.],\n",
    "        [1., -3.],\n",
    "        [0., 2.],\n",
    "        [0.5, 3.],\n",
    "        [3., -1.]])\n",
    "\n",
    "K = mu.shape[0]\n",
    "X, C = generate_data(mu=mu) # X are the data, C are the cluster assignments (for visualisation)\n",
    "N, D = X.shape"
   ]
  },
  {
   "cell_type": "code",
   "execution_count": 16,
   "metadata": {},
   "outputs": [
    {
     "data": {
      "image/png": "[encoded data removed]",
      "text/plain": [
       "<Figure size 432x288 with 1 Axes>"
      ]
     },
     "metadata": {
      "needs_background": "light"
     },
     "output_type": "display_data"
    }
   ],
   "source": [
    "# Plot the data\n",
    "colours = [\"#1f77b4\", \"#ff7f0e\", \"#2ca02c\", \"#d62728\", \"#9467bd\", \"#8c564b\", \"#e377c2\", \"#7f7f7f\", \"#bcbd22\", \"#17becf\"]\n",
    "\n",
    "def plot_2d_data(X, C):\n",
    "\n",
    "    K = int(np.max(C))\n",
    "    for k in range(K+1):\n",
    "        X_k = X[C == k]\n",
    "        plt.scatter(X_k[:, 0], X_k[:, 1], color=colours[k])\n",
    "\n",
    "plot_2d_data(X, C)\n",
    "plt.show()"
   ]
  },
  {
   "cell_type": "code",
   "execution_count": 17,
   "metadata": {},
   "outputs": [
    {
     "name": "stdout",
     "output_type": "stream",
     "text": [
      "10.0\n",
      "[[ 3.14239476e-04  2.92512753e-04  3.17185934e-05  1.45897406e-04\n",
      "  -9.24016968e-05]\n",
      " [ 2.92512753e-04  5.65149597e-04 -3.20103599e-04  4.05126184e-05\n",
      "  -5.66281331e-05]\n",
      " [ 3.17185934e-05 -3.20103599e-04  4.20602306e-04  1.28496172e-04\n",
      "  -4.44075725e-05]\n",
      " [ 1.45897406e-04  4.05126184e-05  1.28496172e-04  9.87481562e-05\n",
      "  -5.24627927e-05]\n",
      " [-9.24016968e-05 -5.66281331e-05 -4.44075725e-05 -5.24627927e-05\n",
      "   3.01189847e-05]]\n"
     ]
    },
    {
     "data": {
      "text/plain": [
       "-1010.7531407668333"
      ]
     },
     "execution_count": 17,
     "metadata": {},
     "output_type": "execute_result"
    }
   ],
   "source": [
    "model = GMM_CAVI(X=X, K=K)\n",
    "print(np.sum(model.s2))\n",
    "model.log_joint()"
   ]
  },
  {
   "cell_type": "markdown",
   "metadata": {},
   "source": [
    "## Run CAVI"
   ]
  },
  {
   "cell_type": "code",
   "execution_count": 3,
   "metadata": {},
   "outputs": [
    {
     "ename": "AssertionError",
     "evalue": "Update for pi not implemented",
     "output_type": "error",
     "traceback": [
      "\u001b[0;31m---------------------------------------------------------------------------\u001b[0m",
      "\u001b[0;31mAssertionError\u001b[0m                            Traceback (most recent call last)",
      "\u001b[0;32m<ipython-input-3-5a0c66b80f9c>\u001b[0m in \u001b[0;36m<module>\u001b[0;34m\u001b[0m\n\u001b[1;32m      4\u001b[0m \u001b[0;31m## and a different value of K might seem plausible (e.g. K=4)\u001b[0m\u001b[0;34m\u001b[0m\u001b[0;34m\u001b[0m\u001b[0;34m\u001b[0m\u001b[0m\n\u001b[1;32m      5\u001b[0m \u001b[0mmodel\u001b[0m \u001b[0;34m=\u001b[0m \u001b[0mGMM_CAVI\u001b[0m\u001b[0;34m(\u001b[0m\u001b[0mX\u001b[0m\u001b[0;34m=\u001b[0m\u001b[0mX\u001b[0m\u001b[0;34m,\u001b[0m \u001b[0mK\u001b[0m\u001b[0;34m=\u001b[0m\u001b[0mK\u001b[0m\u001b[0;34m)\u001b[0m\u001b[0;34m\u001b[0m\u001b[0;34m\u001b[0m\u001b[0m\n\u001b[0;32m----> 6\u001b[0;31m \u001b[0melbo_trace\u001b[0m \u001b[0;34m=\u001b[0m \u001b[0mmodel\u001b[0m\u001b[0;34m.\u001b[0m\u001b[0mfit\u001b[0m\u001b[0;34m(\u001b[0m\u001b[0mmax_iter\u001b[0m\u001b[0;34m=\u001b[0m\u001b[0;36m300\u001b[0m\u001b[0;34m,\u001b[0m \u001b[0mthreshold\u001b[0m\u001b[0;34m=\u001b[0m\u001b[0;36m1e-6\u001b[0m\u001b[0;34m)\u001b[0m\u001b[0;34m\u001b[0m\u001b[0;34m\u001b[0m\u001b[0m\n\u001b[0m",
      "\u001b[0;32m~/Documents/2019/Imperial College/T2/493 Probabilistic Inference/CW3/meanfieldvariationalinference_aml718/vi_assignment.py\u001b[0m in \u001b[0;36mfit\u001b[0;34m(self, max_iter, threshold)\u001b[0m\n\u001b[1;32m    229\u001b[0m         \u001b[0melbo_trace\u001b[0m \u001b[0;34m=\u001b[0m \u001b[0;34m[\u001b[0m\u001b[0;34m]\u001b[0m\u001b[0;34m\u001b[0m\u001b[0;34m\u001b[0m\u001b[0m\n\u001b[1;32m    230\u001b[0m         \u001b[0;32mfor\u001b[0m \u001b[0miter\u001b[0m \u001b[0;32min\u001b[0m \u001b[0mrange\u001b[0m\u001b[0;34m(\u001b[0m\u001b[0mmax_iter\u001b[0m\u001b[0;34m)\u001b[0m\u001b[0;34m:\u001b[0m\u001b[0;34m\u001b[0m\u001b[0;34m\u001b[0m\u001b[0m\n\u001b[0;32m--> 231\u001b[0;31m             \u001b[0mself\u001b[0m\u001b[0;34m.\u001b[0m\u001b[0mcavi\u001b[0m\u001b[0;34m(\u001b[0m\u001b[0;34m)\u001b[0m\u001b[0;34m\u001b[0m\u001b[0;34m\u001b[0m\u001b[0m\n\u001b[0m\u001b[1;32m    232\u001b[0m             \u001b[0melbo_trace\u001b[0m\u001b[0;34m.\u001b[0m\u001b[0mappend\u001b[0m\u001b[0;34m(\u001b[0m\u001b[0mself\u001b[0m\u001b[0;34m.\u001b[0m\u001b[0melbo\u001b[0m\u001b[0;34m(\u001b[0m\u001b[0;34m)\u001b[0m\u001b[0;34m)\u001b[0m\u001b[0;34m\u001b[0m\u001b[0;34m\u001b[0m\u001b[0m\n\u001b[1;32m    233\u001b[0m \u001b[0;34m\u001b[0m\u001b[0m\n",
      "\u001b[0;32m~/Documents/2019/Imperial College/T2/493 Probabilistic Inference/CW3/meanfieldvariationalinference_aml718/vi_assignment.py\u001b[0m in \u001b[0;36mcavi\u001b[0;34m(self)\u001b[0m\n\u001b[1;32m    215\u001b[0m         \"\"\"\n\u001b[1;32m    216\u001b[0m         \u001b[0mself\u001b[0m\u001b[0;34m.\u001b[0m\u001b[0mpi\u001b[0m \u001b[0;34m=\u001b[0m \u001b[0mself\u001b[0m\u001b[0;34m.\u001b[0m\u001b[0mupdate_pi\u001b[0m\u001b[0;34m(\u001b[0m\u001b[0;34m)\u001b[0m\u001b[0;34m\u001b[0m\u001b[0;34m\u001b[0m\u001b[0m\n\u001b[0;32m--> 217\u001b[0;31m         \u001b[0;32massert\u001b[0m \u001b[0mself\u001b[0m\u001b[0;34m.\u001b[0m\u001b[0mpi\u001b[0m \u001b[0;32mis\u001b[0m \u001b[0;32mnot\u001b[0m \u001b[0;32mNone\u001b[0m\u001b[0;34m,\u001b[0m \u001b[0;34m\"Update for pi not implemented\"\u001b[0m\u001b[0;34m\u001b[0m\u001b[0;34m\u001b[0m\u001b[0m\n\u001b[0m\u001b[1;32m    218\u001b[0m         \u001b[0mself\u001b[0m\u001b[0;34m.\u001b[0m\u001b[0ms2\u001b[0m \u001b[0;34m=\u001b[0m \u001b[0mself\u001b[0m\u001b[0;34m.\u001b[0m\u001b[0mupdate_s2\u001b[0m\u001b[0;34m(\u001b[0m\u001b[0;34m)\u001b[0m\u001b[0;34m\u001b[0m\u001b[0;34m\u001b[0m\u001b[0m\n\u001b[1;32m    219\u001b[0m         \u001b[0;32massert\u001b[0m \u001b[0mself\u001b[0m\u001b[0;34m.\u001b[0m\u001b[0ms2\u001b[0m \u001b[0;32mis\u001b[0m \u001b[0;32mnot\u001b[0m \u001b[0;32mNone\u001b[0m\u001b[0;34m,\u001b[0m \u001b[0;34m\"Update for s2 not implemented\"\u001b[0m\u001b[0;34m\u001b[0m\u001b[0;34m\u001b[0m\u001b[0m\n",
      "\u001b[0;31mAssertionError\u001b[0m: Update for pi not implemented"
     ]
    }
   ],
   "source": [
    "# Initialise model\n",
    "## Note: You can play around with different values for K.\n",
    "## In a more realistic setting we might not have the cluster assignments\n",
    "## and a different value of K might seem plausible (e.g. K=4)\n",
    "model = GMM_CAVI(X=X, K=K)\n",
    "elbo_trace = model.fit(max_iter=300, threshold=1e-6)"
   ]
  },
  {
   "cell_type": "code",
   "execution_count": null,
   "metadata": {},
   "outputs": [],
   "source": [
    "# Plot the ELBO\n",
    "def plot_elbo(trace):\n",
    "\n",
    "    iters = np.arange(1, trace.shape[0]+1)\n",
    "    plt.plot(iters, trace)\n",
    "    plt.xlabel(\"Iteration\")\n",
    "    plt.ylabel(\"ELBO\")\n",
    "    \n",
    "plot_elbo(elbo_trace)\n",
    "plt.show()"
   ]
  },
  {
   "cell_type": "markdown",
   "metadata": {},
   "source": [
    "## Plot the variational posterior"
   ]
  },
  {
   "cell_type": "code",
   "execution_count": null,
   "metadata": {},
   "outputs": [],
   "source": [
    "def plot_2d_fit(X, C, pis, mus):\n",
    "\n",
    "    sigmas2 = np.ones_like(mus)\n",
    "    C_pred = np.argmax(pis, axis=1) # Hard cluster assignment\n",
    "\n",
    "    fig, axarr = plt.subplots(1, 2, sharey=True, sharex=True)\n",
    "\n",
    "    axarr[0].set(aspect=\"equal\")\n",
    "    axarr[1].set(aspect=\"equal\")\n",
    "\n",
    "    K = int(np.max(C))\n",
    "    for k in range(K+1):\n",
    "\n",
    "        true_c = colours[k]\n",
    "        pred_c = colours[(K+1)+k]\n",
    "\n",
    "        X_k_true = X[C == k]\n",
    "        X_k_pred = X[C_pred == k]\n",
    "\n",
    "        axarr[0].scatter(X_k_true[:, 0], X_k_true[:, 1], color=true_c)\n",
    "        axarr[1].scatter(X_k_pred[:, 0], X_k_pred[:, 1], color=pred_c)\n",
    "\n",
    "        if k < mus.shape[0]:\n",
    "            mu_k = mus[k]\n",
    "            sigma2_k = sigmas2[k]\n",
    "            dim_k = 4*np.sqrt(sigma2_k)\n",
    "            gauss_k = Ellipse(\n",
    "                xy=mu_k, width=dim_k[0], height=dim_k[1],\n",
    "                fc=(0, 0, 0, 0.33), lw=2., ls=\"--\")\n",
    "            axarr[1].add_artist(gauss_k)\n",
    "            gauss_k.set_edgecolor(\"black\")\n",
    "\n",
    "            axarr[1].scatter(mu_k[0], mu_k[1], color=\"black\")\n",
    "\n",
    "        axarr[0].set_title(\"Ground truth\")\n",
    "        axarr[1].set_title(\"Variational posterior\")\n",
    "        \n",
    "pis, mus = model.pi, model.m\n",
    "plot_2d_fit(X, C, pis, mus)\n",
    "plt.show()"
   ]
  }
 ],
 "metadata": {
  "kernelspec": {
   "display_name": "Python [conda env:ic_std]",
   "language": "python",
   "name": "conda-env-ic_std-py"
  }
 },
 "nbformat": 4,
 "nbformat_minor": 1
}
